{
  "nbformat": 4,
  "nbformat_minor": 0,
  "metadata": {
    "colab": {
      "provenance": []
    },
    "kernelspec": {
      "name": "python3",
      "display_name": "Python 3"
    },
    "language_info": {
      "name": "python"
    }
  },
  "cells": [
    {
      "cell_type": "code",
      "execution_count": 6,
      "metadata": {
        "id": "n9yWnWz6YNtR",
        "colab": {
          "base_uri": "https://localhost:8080/"
        },
        "outputId": "755aa2cc-5d5b-4bd4-aff7-245c35d533a4"
      },
      "outputs": [
        {
          "output_type": "stream",
          "name": "stdout",
          "text": [
            "記事本文:\n",
            "6/28(土) 5:00配信\n",
            "読売新聞のインタビューに応じる石破首相（２７日、首相官邸で）＝川口正峰撮影\n",
            "　石破首相は２７日、読売新聞のインタビューに応じ、米国の関税措置を受けた日米協議を巡り、航空機の製造・開発分野での日米協力を拡大させる考えを示した。協力が世界市場の開拓や両国での雇用拡大につながるとし、「ともに利益が出る新しい日米関係を作っていきたい」と意欲を示した。\n",
            "\n",
            "【写真】初飛行を終え、大勢の人が見守る中を着陸する三菱スペースジェット（２０１５年１１月）\n",
            "　首相は、経済安全保障面で日米協力の重要性が高まる分野として、造船と並んで航空機を挙げた。２０２３年に開発を中止した三菱重工業の国産ジェット旅客機「三菱スペースジェット（ＭＳＪ）」に言及し、「米国で航空機を開発、生産する上で生きる部門が多々ある」と述べ、同社の技術を航空機の日米共同開発に活用することを提案した。\n",
            "　機体の約３５％が日本製で「準国産機」とも呼ばれる米ボーイング７８７型機も例に挙げ、米国での航空機製造で日本メーカーの素材や部品の使用拡大を目指す考えも示した。\n",
            "　トランプ政権は、対米投資の拡大と対日貿易赤字の削減を要求している。首相は交渉打開に向けて、対米投資の実績を訴える姿勢を強調し、「米国から見れば赤字、日本から見れば黒字を、ゼロを目指して減少させていく」と述べた。\n"
          ]
        }
      ],
      "source": [
        "import requests\n",
        "from bs4 import BeautifulSoup\n",
        "\n",
        "# 記事URL\n",
        "url = 'https://news.yahoo.co.jp/articles/4c58238ca4f522192ae5d84750d1608e6824a532'\n",
        "\n",
        "# ヘッダー（必須、ないとブロックされる可能性）\n",
        "headers = {\n",
        "    'User-Agent': 'Mozilla/5.0 (Windows NT 10.0; Win64; x64) AppleWebKit/537.36 (KHTML, like Gecko) Chrome/114.0.0.0 Safari/537.36'\n",
        "}\n",
        "\n",
        "# ページ取得\n",
        "response = requests.get(url, headers=headers)\n",
        "\n",
        "if response.status_code == 200:\n",
        "    soup = BeautifulSoup(response.text, 'html.parser')\n",
        "\n",
        "    # 記事本文は <p> タグに分かれている\n",
        "    article_paragraphs = soup.select('article p')  # articleタグ内のpタグ\n",
        "\n",
        "    # 本文を抽出\n",
        "    article_text = '\\n'.join([p.text for p in article_paragraphs])\n",
        "\n",
        "    print(\"記事本文:\")\n",
        "    print(article_text)\n",
        "else:\n",
        "    print(\"ページの取得に失敗しました。ステータスコード:\", response.status_code)\n"
      ]
    }
  ]
}
{
  "nbformat": 4,
  "nbformat_minor": 0,
  "metadata": {
    "colab": {
      "provenance": []
    },
    "kernelspec": {
      "name": "python3",
      "display_name": "Python 3"
    },
    "language_info": {
      "name": "python"
    }
  },
  "cells": [
    {
      "cell_type": "code",
      "execution_count": 2,
      "metadata": {
        "colab": {
          "base_uri": "https://localhost:8080/"
        },
        "id": "N3khPXz26717",
        "outputId": "0d1cad0a-d2d8-4d89-bcbb-817dfbc0505f"
      },
      "outputs": [
        {
          "name": "stdout",
          "output_type": "stream",
          "text": [
            "Requirement already satisfied: selenium in /usr/local/lib/python3.11/dist-packages (4.33.0)\n",
            "Requirement already satisfied: urllib3~=2.4.0 in /usr/local/lib/python3.11/dist-packages (from urllib3[socks]~=2.4.0->selenium) (2.4.0)\n",
            "Requirement already satisfied: trio~=0.30.0 in /usr/local/lib/python3.11/dist-packages (from selenium) (0.30.0)\n",
            "Requirement already satisfied: trio-websocket~=0.12.2 in /usr/local/lib/python3.11/dist-packages (from selenium) (0.12.2)\n",
            "Requirement already satisfied: certifi>=2025.4.26 in /usr/local/lib/python3.11/dist-packages (from selenium) (2025.6.15)\n",
            "Requirement already satisfied: typing_extensions~=4.13.2 in /usr/local/lib/python3.11/dist-packages (from selenium) (4.13.2)\n",
            "Requirement already satisfied: websocket-client~=1.8.0 in /usr/local/lib/python3.11/dist-packages (from selenium) (1.8.0)\n",
            "Requirement already satisfied: attrs>=23.2.0 in /usr/local/lib/python3.11/dist-packages (from trio~=0.30.0->selenium) (25.3.0)\n",
            "Requirement already satisfied: sortedcontainers in /usr/local/lib/python3.11/dist-packages (from trio~=0.30.0->selenium) (2.4.0)\n",
            "Requirement already satisfied: idna in /usr/local/lib/python3.11/dist-packages (from trio~=0.30.0->selenium) (3.10)\n",
            "Requirement already satisfied: outcome in /usr/local/lib/python3.11/dist-packages (from trio~=0.30.0->selenium) (1.3.0.post0)\n",
            "Requirement already satisfied: sniffio>=1.3.0 in /usr/local/lib/python3.11/dist-packages (from trio~=0.30.0->selenium) (1.3.1)\n",
            "Requirement already satisfied: wsproto>=0.14 in /usr/local/lib/python3.11/dist-packages (from trio-websocket~=0.12.2->selenium) (1.2.0)\n",
            "Requirement already satisfied: pysocks!=1.5.7,<2.0,>=1.5.6 in /usr/local/lib/python3.11/dist-packages (from urllib3[socks]~=2.4.0->selenium) (1.7.1)\n",
            "Requirement already satisfied: h11<1,>=0.9.0 in /usr/local/lib/python3.11/dist-packages (from wsproto>=0.14->trio-websocket~=0.12.2->selenium) (0.16.0)\n",
            "Reading package lists... Done\n",
            "Building dependency tree... Done\n",
            "Reading state information... Done\n",
            "fonts-ipafont-gothic is already the newest version (00303-21ubuntu1).\n",
            "0 upgraded, 0 newly installed, 0 to remove and 35 not upgraded.\n",
            "メールアドレスを入力してください: junko.inada2525@gmail.com\n",
            "パスワードを入力してください: ··········\n"
          ]
        },
        {
          "output_type": "execute_result",
          "data": {
            "text/plain": [
              "<selenium.webdriver.remote.webelement.WebElement (session=\"545f77aaa330db5e27db70b5a2abb70c\", element=\"f.9F13591FE15B567D8A91E669D9848F3C.d.3E9A7483DAC311227409D22CDD9C8C4E.e.36\")>"
            ]
          },
          "metadata": {},
          "execution_count": 2
        }
      ],
      "source": [
        "# 必要なライブラリをインポート\n",
        "!pip install selenium\n",
        "!apt install fonts-ipafont-gothic\n",
        "\n",
        "from selenium import webdriver\n",
        "from selenium.webdriver.common.by import By\n",
        "from selenium.webdriver.support.ui import WebDriverWait\n",
        "from selenium.webdriver.support import expected_conditions as EC\n",
        "from getpass import getpass\n",
        "\n",
        "\n",
        "# ヘッドレスモードで起動するためのオプションを設定\n",
        "chrome_options = webdriver.ChromeOptions()\n",
        "chrome_options.add_argument('--headless')\n",
        "chrome_options.add_argument('--no-sandbox')\n",
        "chrome_options.add_argument('--disable-dev-shm-usage')\n",
        "\n",
        "# Chromeを立ち上げる\n",
        "chrome_driver = webdriver.Chrome(options=chrome_options)\n",
        "\n",
        "# TERAKOYAのトップページにアクセス\n",
        "chrome_driver.get('https://terakoya.sejuku.net')\n",
        "\n",
        "# 最大30秒間、ログインボタンが表示されるのを待つ\n",
        "wait = WebDriverWait(chrome_driver, 30)\n",
        "header_login_button = wait.until(\n",
        "    EC.visibility_of_element_located(\n",
        "        (By.CSS_SELECTOR, '#root > header > div > div > div.sc-jytpVa.fbjqwr > div.sc-eknHtZ.sc-cCVJLD.iIXmGq.ixFZiB')\n",
        "    )\n",
        ")\n",
        "\n",
        "# ログインボタンをクリックする\n",
        "header_login_button.click()\n",
        "'''print(\"✅ ログインボタンをクリックしました。\")'''\n",
        "\n",
        "# メールアドレスとパスワードを入力する\n",
        "\n",
        "email_address = input('メールアドレスを入力してください: ')\n",
        "password = getpass('パスワードを入力してください: ')\n",
        "\n",
        "# メールアドレスとパスワードの入力欄を見つける\n",
        "\n",
        "parent_element = chrome_driver.find_element(By.CSS_SELECTOR, 'div.sc-kNOymR.TvzZn')\n",
        "email_input = parent_element.find_element(By.NAME, 'email')\n",
        "password_input = parent_element.find_element(By.NAME, 'password')\n",
        "\n",
        "# メールアドレスとパスワードを設定\n",
        "\n",
        "email_input.send_keys(email_address)\n",
        "password_input.send_keys(password)\n",
        "\n",
        "# ログインボタンをクリックしてログイン\n",
        "\n",
        "form_login_button = wait.until(\n",
        "    EC.visibility_of_element_located(\n",
        "        (By.CSS_SELECTOR,\n",
        "         '#root > div.sc-kNOymR.TvzZn > div.sc-lgpSej.gsAReM > div.sc-dntSTA.dQOsDP > button')\n",
        "    )\n",
        ")\n",
        "\n",
        "form_login_button.click()\n",
        "\n",
        "\n",
        "# ログイン後、要素が読み込まれるまで待つ\n",
        "wait.until(EC.visibility_of_element_located((By.CSS_SELECTOR, 'nav > img ')))\n",
        "\n"
      ]
    },
    {
      "cell_type": "code",
      "source": [
        "import time\n",
        "\n",
        "# ユーザーアイコンをクリックして\n",
        "form_icon = wait.until(\n",
        "    EC.visibility_of_element_located(\n",
        "       (By.CSS_SELECTOR, '[data-e2e=\"header-user-icon\"]')\n",
        "    )\n",
        ")\n",
        "# 多少待機＋JavaScriptクリック\n",
        "time.sleep(1)\n",
        "chrome_driver.execute_script(\"arguments[0].click();\", form_icon)\n",
        "\n",
        "# アカウント設定をクリック\n",
        "account_setting = wait.until(\n",
        "    EC.visibility_of_element_located(\n",
        "       (By.XPATH, '//li[text()=\"アカウント設定\"]')\n",
        "    )\n",
        ")\n",
        "account_setting.click()\n",
        "\n",
        "\n",
        "#編集ボタンをクリック\n",
        "account_edit = wait.until(\n",
        "    EC.visibility_of_element_located(\n",
        "        (By.XPATH, '//button[normalize-space(text())=\"編集\"]')\n",
        "    )\n",
        ")\n",
        "#JavaScriptクリック\n",
        "chrome_driver.execute_script(\"arguments[0].click();\", account_edit)\n",
        "\n",
        "# ページ読み込み待ち\n",
        "time.sleep(2)\n",
        "\n",
        "# 自己紹介を入力\n",
        "bio_input = wait.until(\n",
        "    EC.visibility_of_element_located(\n",
        "        (By.CSS_SELECTOR, 'textarea.sc-jAaUzS')\n",
        "    )\n",
        ")\n",
        "\n",
        "# 入力内容をクリアして新しい情報を入力\n",
        "'''bio_input.clear()'''\n",
        "bio_input.send_keys(\"プログラミング学習中です！今はスクレイピングに挑戦しています！\")\n",
        "\n",
        "\n",
        "#更新ボタンをクリック\n",
        "save_button = wait.until(\n",
        "    EC.visibility_of_element_located(\n",
        "        (By.XPATH, '//button[normalize-space()=\"更新する\"]')\n",
        "    )\n",
        ")\n",
        "\n",
        "save_button.click()\n",
        "\n",
        "print(\"✅ プロフィールを更新しました。\")\n",
        "\n",
        "# スクリーンショットを撮る\n",
        "chrome_driver.save_screenshot('screenshot.png')\n",
        "# 閉じる\n",
        "time.sleep(2)\n",
        "chrome_driver.quit()"
      ],
      "metadata": {
        "colab": {
          "base_uri": "https://localhost:8080/"
        },
        "id": "cNVQuGrNE9Em",
        "outputId": "d4160566-8127-4892-cb18-4e07165015f2"
      },
      "execution_count": 16,
      "outputs": [
        {
          "output_type": "stream",
          "name": "stdout",
          "text": [
            "✅ プロフィールを更新しました。\n"
          ]
        }
      ]
    }
  ]
}